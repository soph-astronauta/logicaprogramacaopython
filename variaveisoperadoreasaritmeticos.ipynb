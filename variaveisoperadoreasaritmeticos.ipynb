Criando Variaveis
AREA DO QUADRADO

#entrada
l = float(input("Digite a area do quadrado::"))
#processamento
a = l*l
#saida
print("A area do quadrado é", a)
     
Diga um numero:4
A area do quadrado é 16.0
AREA DO RETANGULO

#ENTRADA
Base = float(input("Digite o valor da Base: "))
Alt = float(input("Digite o valor da altura: "))

#PROCESSAMENTO
area = Base*Alt

#SAIDA
print('a area do Retangulo é:', area)
     
AREA DO TRIANGULO RETANGULO

#ENTRADA
BaseT = float(input('Digite o valor da base do Triangulo: '))
AltT = float(input('Digite o valor da Altura do Triangulo'))

#PROCESSAMENTO
areaT = BaseT*AltT /2

#SAIDA
print("A area do Triangulo retangulo é: ", areaT)
     
AREA DO TRAPEZIO

#ENTRADA
BaseMaior = float(input('Digite a area do trapezio: '))
BaseMenor = float(input('Digite a outra base do trapezio: '))
AltTrap = float(input('Digite a altura do Trapezio: '))

#PROCESSAMENTO
AreaTrap = BaseMaior + BaseMenor * AltTrap /2

#SAIDA
print('A area do Trapezio é: ', AreaTrap)
     
Digite a area do trapezio: 8
Digite a outra base do trapezio: 6
Digite a altura do Trapezio: 5
A area do Trapezio é:  23.0
calcular numero de azulejos

# entrada
altPa= float(input("Qual é o tamanho da altura da sua parede: "));
LargPa= float(input("Qual é o tamanho da largura da sua parede: "));

# processamento
areaPa = altPa * LargPa;

# saida
print("A área da sua parede é: ", areaPa , "metros");


# entrada
altAz= float(input("Qual é o tamanho da altura do seu azulejo: "));
LargAz= float(input("Qual é o tamanho da largura do seu azulejo: "));

# processamento
areaAz = altAz * LargAz;

# saida
print("A área da sua parede é: ", areaAz , "centimetros");



# processamento
areaAzMetro = areaAz / 100 ;

quantAz = areaPa / areaAzMetro

# saida
print("Você vai necessitar de: " , quantAz);
