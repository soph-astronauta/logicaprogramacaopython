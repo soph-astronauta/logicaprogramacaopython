{
  "nbformat": 4,
  "nbformat_minor": 0,
  "metadata": {
    "colab": {
      "provenance": [],
      "authorship_tag": "ABX9TyN8qHkgeZY2JD57460vQjdA",
      "include_colab_link": true
    },
    "kernelspec": {
      "name": "python3",
      "display_name": "Python 3"
    },
    "language_info": {
      "name": "python"
    }
  },
  "cells": [
    {
      "cell_type": "markdown",
      "metadata": {
        "id": "view-in-github",
        "colab_type": "text"
      },
      "source": [
        "<a href=\"https://colab.research.google.com/github/soph-astronauta/logicaprogramacaopython/blob/main/variaveisoperadoreasaritmeticos.ipynb\" target=\"_parent\"><img src=\"https://colab.research.google.com/assets/colab-badge.svg\" alt=\"Open In Colab\"/></a>"
      ]
    },
    {
      "cell_type": "markdown",
      "source": [
        "# Criando variaveis"
      ],
      "metadata": {
        "id": "NHVpP49uCOEv"
      }
    },
    {
      "cell_type": "markdown",
      "source": [],
      "metadata": {
        "id": "5Od0UydQKQN8"
      }
    },
    {
      "cell_type": "code",
      "source": [],
      "metadata": {
        "id": "eXGPeGtIKRq2"
      },
      "execution_count": null,
      "outputs": []
    },
    {
      "cell_type": "markdown",
      "source": [],
      "metadata": {
        "id": "dVVFmCRQKTNt"
      }
    },
    {
      "cell_type": "markdown",
      "source": [],
      "metadata": {
        "id": "Byl0bhWHHMLp"
      }
    },
    {
      "cell_type": "code",
      "source": [
        "\n"
      ],
      "metadata": {
        "id": "3kmFlX1MKib0"
      },
      "execution_count": null,
      "outputs": []
    },
    {
      "cell_type": "markdown",
      "source": [
        "area do quadrado"
      ],
      "metadata": {
        "id": "vU_wvyuUHRGN"
      }
    },
    {
      "cell_type": "code",
      "execution_count": 12,
      "metadata": {
        "colab": {
          "base_uri": "https://localhost:8080/"
        },
        "id": "Mawclkt4CC7q",
        "outputId": "60ef755a-9eae-4046-b6cd-1fbed132c898"
      },
      "outputs": [
        {
          "output_type": "stream",
          "name": "stdout",
          "text": [
            "digite a area do quadrado 444\n",
            "a area do quadrado e:  197136.0\n"
          ]
        }
      ],
      "source": [
        "#entrada\n",
        "l = float(input(\"digite a area do quadrado \"))\n",
        "\n",
        "#processamento\n",
        "\n",
        "l*l\n",
        "\n",
        "#saida\n",
        "\n",
        "print(\"a area do quadrado e: \", l*l )\n",
        "\n",
        "\n"
      ]
    },
    {
      "cell_type": "markdown",
      "source": [],
      "metadata": {
        "id": "MxK8joFfJ51A"
      }
    },
    {
      "cell_type": "markdown",
      "source": [
        "area do retangulo - áreatri = (btri*htri)/2"
      ],
      "metadata": {
        "id": "qmJDBW8lKZVW"
      }
    },
    {
      "cell_type": "markdown",
      "source": [],
      "metadata": {
        "id": "oE91kCiO6s6k"
      }
    },
    {
      "cell_type": "code",
      "source": [
        "#entrada\n",
        "base = float(input(\"digite a base do retangulo\"))\n",
        "alt = float(input(\"digite a altura do retangulo\"))\n",
        "#processamento\n",
        "base = 4\n",
        "alt = 2\n",
        "#saida\n",
        "print(\"a area do retangulo e: \", base*alt)"
      ],
      "metadata": {
        "id": "ZxxiycTxKFV2",
        "colab": {
          "base_uri": "https://localhost:8080/"
        },
        "outputId": "dfde5962-6e37-497b-d4fb-5e185b126ce0"
      },
      "execution_count": 2,
      "outputs": [
        {
          "output_type": "stream",
          "name": "stdout",
          "text": [
            "digite a base do retangulo4\n",
            "digite a altura do retangulo2\n",
            "a area do retangulo e:  8\n"
          ]
        }
      ]
    },
    {
      "cell_type": "markdown",
      "source": [
        "area do triangulo"
      ],
      "metadata": {
        "id": "_yKz17IzMr3Y"
      }
    },
    {
      "cell_type": "code",
      "source": [
        "#entrada\n",
        "btri = float(input(\"digite a base do triangulo: \"))\n",
        "htri = float(input(\"digite a altura do triangulo \"))\n",
        "\n",
        "#processamento\n",
        "areatri = (btri*htri)/2\n",
        "\n",
        "#saida\n",
        "\n",
        "print(\"a area do triangulo retangulo e: \", areatri)\n"
      ],
      "metadata": {
        "colab": {
          "base_uri": "https://localhost:8080/"
        },
        "id": "HlhkCuIVM438",
        "outputId": "be135962-f780-4bf9-d7e1-4c2834f20171"
      },
      "execution_count": null,
      "outputs": [
        {
          "output_type": "stream",
          "name": "stdout",
          "text": [
            "digite a base do triangulo: 4\n",
            "digite a altura do triangulo 2\n",
            "a area do triangulo retangulo e:  4.0\n"
          ]
        }
      ]
    },
    {
      "cell_type": "markdown",
      "source": [
        "quantidade de azulejos"
      ],
      "metadata": {
        "id": "Rw84y-Fy7cBB"
      }
    },
    {
      "cell_type": "code",
      "source": [
        "\n",
        "\n",
        "\n",
        "#entrada\n",
        "basepa= float(input(\"digite a base da parede em metros: \"))\n",
        "altpa= float(input(\"digite a altura da parede em metros: \"))\n",
        "baseazu= float(input(\"digite a base do azulejo em centimetros: \"))\n",
        "altazu= float(input(\"digite a altura do azulejo em centimetros: \"))\n",
        "\n",
        "#processamento\n",
        "areaparede = basepa*altpa\n",
        "areaazul = baseazu*altazu\n",
        "areaazulconvert = areaazul/100\n",
        "totalazul = areaparede/areaazulconvert\n",
        "\n",
        "#saida\n",
        "print(\"voce precisara de\", totalazul, \" azulejos!\")\n",
        "\n",
        "\n"
      ],
      "metadata": {
        "id": "42pGaz06RnGa",
        "colab": {
          "base_uri": "https://localhost:8080/"
        },
        "outputId": "aebcde8a-396d-4ebd-b829-2cb7e7db38f2"
      },
      "execution_count": 5,
      "outputs": [
        {
          "output_type": "stream",
          "name": "stdout",
          "text": [
            "digite a base da parede em metros: 6\n",
            "digite a altura da parede em metros: 4\n",
            "digite a base do azulejo em centimetros: 3\n",
            "digite a altura do azulejo em centimetros: 4\n",
            "voce precisara de 200.0  azulejos!\n"
          ]
        }
      ]
    },
    {
      "cell_type": "markdown",
      "source": [
        "área do trapézio - areatra = (baseman+basemai)*h)2"
      ],
      "metadata": {
        "id": "4gOj2FFU70CL"
      }
    },
    {
      "cell_type": "code",
      "source": [
        "#entrada\n",
        "bma= float(input(\"digite a base maior do trapezio: \"))\n",
        "bame= float(input(\"digite a base menor do trapezio: \"))\n",
        "alttra= float(input(\"digite a altura do trapezio: \"))\n",
        "\n",
        "#processamento\n",
        "areatra = ((bma+bame)*alttra)/2\n",
        "\n",
        "#saida\n",
        "\n",
        "print(\"a area do trapezio e: \", areatra)\n"
      ],
      "metadata": {
        "colab": {
          "base_uri": "https://localhost:8080/"
        },
        "id": "_CFaLzwx8PfV",
        "outputId": "74176c27-65d5-4722-99f2-dc0b894a9600"
      },
      "execution_count": 4,
      "outputs": [
        {
          "output_type": "stream",
          "name": "stdout",
          "text": [
            "digite a base maior do trapezio: 10\n",
            "digite a base menor do trapezio: 7\n",
            "digite a altura do trapezio: 4\n",
            "a area do trapezio e:  34.0\n"
          ]
        }
      ]
    }
  ]
}